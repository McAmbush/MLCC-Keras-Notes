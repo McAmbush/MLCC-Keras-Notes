{
 "cells": [
  {
   "cell_type": "markdown",
   "metadata": {},
   "source": [
    "# MLP model for MNIST dataset"
   ]
  },
  {
   "cell_type": "markdown",
   "metadata": {},
   "source": [
    "## Essential Imports"
   ]
  },
  {
   "cell_type": "code",
   "execution_count": 1,
   "metadata": {},
   "outputs": [
    {
     "name": "stderr",
     "output_type": "stream",
     "text": [
      "Using TensorFlow backend.\n"
     ]
    }
   ],
   "source": [
    "import keras\n",
    "\n",
    "# import Sequential Model\n",
    "from keras.models import Sequential\n",
    "\n",
    "# import Flatten and Dense Layer\n",
    "from keras.layers import Flatten, Dense\n",
    "\n",
    "# import to_categorical utility \n",
    "# for one-hot encoding of labels\n",
    "from keras.utils import to_categorical"
   ]
  },
  {
   "cell_type": "markdown",
   "metadata": {},
   "source": [
    "## Working with MNIST Dataset"
   ]
  },
  {
   "cell_type": "markdown",
   "metadata": {},
   "source": [
    "### Downloading and Loading"
   ]
  },
  {
   "cell_type": "code",
   "execution_count": 2,
   "metadata": {},
   "outputs": [],
   "source": [
    "mnist = keras.datasets.mnist\n",
    "\n",
    "# splits data into training and testing parts\n",
    "(xtrain, ytrain),(xtest, ytest) = mnist.load_data()"
   ]
  },
  {
   "cell_type": "markdown",
   "metadata": {},
   "source": [
    "### One-Hot Encoding of labels"
   ]
  },
  {
   "cell_type": "code",
   "execution_count": 3,
   "metadata": {},
   "outputs": [],
   "source": [
    "# OHE on train labels\n",
    "ytrain = to_categorical(ytrain)\n",
    "\n",
    "#OHE on test labels\n",
    "ytest = to_categorical(ytest)"
   ]
  },
  {
   "cell_type": "markdown",
   "metadata": {},
   "source": [
    "### Visualizing Data"
   ]
  },
  {
   "cell_type": "code",
   "execution_count": 4,
   "metadata": {},
   "outputs": [],
   "source": [
    "# importing matplotlib library for plotting graphs\n",
    "\n",
    "import matplotlib.pyplot as plt"
   ]
  },
  {
   "cell_type": "markdown",
   "metadata": {},
   "source": [
    "### Plotting train data (16 samples)"
   ]
  },
  {
   "cell_type": "code",
   "execution_count": 5,
   "metadata": {},
   "outputs": [
    {
     "data": {
      "image/png": "[encoded data removed]",
      "text/plain": [
       "<Figure size 864x720 with 16 Axes>"
      ]
     },
     "metadata": {
      "needs_background": "light"
     },
     "output_type": "display_data"
    }
   ],
   "source": [
    "plt.figure(figsize=(12,10))\n",
    "\n",
    "for i in range(16):\n",
    "    # Adding subplot so that multiple plots can be displayed in data\n",
    "    \n",
    "    plt.subplot(4,4,i+1)\n",
    "    \n",
    "    # setting cmap or colormap displays image in black and white\n",
    "    # as grayscale pixel values are from 0-255\n",
    "    \n",
    "    plt.imshow(xtrain[i], cmap='binary')"
   ]
  },
  {
   "cell_type": "markdown",
   "metadata": {},
   "source": [
    "## Creating the model"
   ]
  },
  {
   "cell_type": "code",
   "execution_count": 6,
   "metadata": {},
   "outputs": [],
   "source": [
    "# Declaring a sequential model\n",
    "model = Sequential()\n",
    "\n",
    "# Since the data contains 2D images\n",
    "# of size 28x28 pixels each\n",
    "# We must convert the image in a 1D array\n",
    "model.add(Flatten(input_shape=(28,28)))\n",
    "\n",
    "model.add(Dense(128, activation='sigmoid'))\n",
    "model.add(Dense(128, activation='sigmoid'))\n",
    "\n",
    "# The output contains 10 different classes\n",
    "# hence we use softmax activation \n",
    "# to find probabilities of sample belonging to EACH CLASS\n",
    "model.add(Dense(10, activation='softmax'))\n",
    "\n",
    "# Compiling the model\n",
    "model.compile(optimizer='adam', loss='categorical_crossentropy', metrics=['accuracy'])"
   ]
  },
  {
   "cell_type": "markdown",
   "metadata": {},
   "source": [
    "### The Final Model"
   ]
  },
  {
   "cell_type": "code",
   "execution_count": 7,
   "metadata": {},
   "outputs": [
    {
     "name": "stdout",
     "output_type": "stream",
     "text": [
      "_________________________________________________________________\n",
      "Layer (type)                 Output Shape              Param #   \n",
      "=================================================================\n",
      "flatten_1 (Flatten)          (None, 784)               0         \n",
      "_________________________________________________________________\n",
      "dense_1 (Dense)              (None, 128)               100480    \n",
      "_________________________________________________________________\n",
      "dense_2 (Dense)              (None, 128)               16512     \n",
      "_________________________________________________________________\n",
      "dense_3 (Dense)              (None, 10)                1290      \n",
      "=================================================================\n",
      "Total params: 118,282\n",
      "Trainable params: 118,282\n",
      "Non-trainable params: 0\n",
      "_________________________________________________________________\n"
     ]
    }
   ],
   "source": [
    "model.summary()"
   ]
  },
  {
   "cell_type": "markdown",
   "metadata": {},
   "source": [
    "### Fitting the data in the model"
   ]
  },
  {
   "cell_type": "code",
   "execution_count": 8,
   "metadata": {},
   "outputs": [
    {
     "name": "stdout",
     "output_type": "stream",
     "text": [
      "Train on 42000 samples, validate on 18000 samples\n",
      "Epoch 1/50\n",
      "42000/42000 [==============================] - 2s 49us/step - loss: 1.6860 - acc: 0.6242 - val_loss: 1.0723 - val_acc: 0.8252\n",
      "Epoch 2/50\n",
      "42000/42000 [==============================] - 1s 23us/step - loss: 0.7812 - acc: 0.8542 - val_loss: 0.5566 - val_acc: 0.8850\n",
      "Epoch 3/50\n",
      "42000/42000 [==============================] - 1s 20us/step - loss: 0.4779 - acc: 0.8915 - val_loss: 0.4034 - val_acc: 0.9021\n",
      "Epoch 4/50\n",
      "42000/42000 [==============================] - 1s 20us/step - loss: 0.3725 - acc: 0.9074 - val_loss: 0.3419 - val_acc: 0.9103\n",
      "Epoch 5/50\n",
      "42000/42000 [==============================] - 1s 20us/step - loss: 0.3225 - acc: 0.9141 - val_loss: 0.3062 - val_acc: 0.9162\n",
      "Epoch 6/50\n",
      "42000/42000 [==============================] - 1s 20us/step - loss: 0.2883 - acc: 0.9209 - val_loss: 0.2813 - val_acc: 0.9227\n",
      "Epoch 7/50\n",
      "42000/42000 [==============================] - 1s 20us/step - loss: 0.2627 - acc: 0.9262 - val_loss: 0.2640 - val_acc: 0.9250\n",
      "Epoch 8/50\n",
      "42000/42000 [==============================] - 1s 20us/step - loss: 0.2476 - acc: 0.9293 - val_loss: 0.2530 - val_acc: 0.9290\n",
      "Epoch 9/50\n",
      "42000/42000 [==============================] - 1s 23us/step - loss: 0.2312 - acc: 0.9340 - val_loss: 0.2393 - val_acc: 0.9299\n",
      "Epoch 10/50\n",
      "42000/42000 [==============================] - 1s 24us/step - loss: 0.2194 - acc: 0.9368 - val_loss: 0.2273 - val_acc: 0.9344\n",
      "Epoch 11/50\n",
      "42000/42000 [==============================] - 1s 23us/step - loss: 0.2065 - acc: 0.9417 - val_loss: 0.2226 - val_acc: 0.9343\n",
      "Epoch 12/50\n",
      "42000/42000 [==============================] - 1s 25us/step - loss: 0.1975 - acc: 0.9431 - val_loss: 0.2144 - val_acc: 0.9377\n",
      "Epoch 13/50\n",
      "42000/42000 [==============================] - 1s 21us/step - loss: 0.1906 - acc: 0.9450 - val_loss: 0.2102 - val_acc: 0.9406\n",
      "Epoch 14/50\n",
      "42000/42000 [==============================] - 1s 20us/step - loss: 0.1829 - acc: 0.9464 - val_loss: 0.2037 - val_acc: 0.9392\n",
      "Epoch 15/50\n",
      "42000/42000 [==============================] - 1s 21us/step - loss: 0.1760 - acc: 0.9493 - val_loss: 0.1975 - val_acc: 0.9426\n",
      "Epoch 16/50\n",
      "42000/42000 [==============================] - 1s 21us/step - loss: 0.1714 - acc: 0.9520 - val_loss: 0.1941 - val_acc: 0.9437\n",
      "Epoch 17/50\n",
      "42000/42000 [==============================] - 1s 20us/step - loss: 0.1616 - acc: 0.9532 - val_loss: 0.1901 - val_acc: 0.9444\n",
      "Epoch 18/50\n",
      "42000/42000 [==============================] - 1s 20us/step - loss: 0.1577 - acc: 0.9539 - val_loss: 0.1804 - val_acc: 0.9471\n",
      "Epoch 19/50\n",
      "42000/42000 [==============================] - 1s 20us/step - loss: 0.1526 - acc: 0.9553 - val_loss: 0.1889 - val_acc: 0.9448\n",
      "Epoch 20/50\n",
      "42000/42000 [==============================] - 1s 20us/step - loss: 0.1532 - acc: 0.9549 - val_loss: 0.1816 - val_acc: 0.9464\n",
      "Epoch 21/50\n",
      "42000/42000 [==============================] - 1s 20us/step - loss: 0.1475 - acc: 0.9570 - val_loss: 0.1794 - val_acc: 0.9459\n",
      "Epoch 22/50\n",
      "42000/42000 [==============================] - 1s 20us/step - loss: 0.1453 - acc: 0.9565 - val_loss: 0.1759 - val_acc: 0.9487\n",
      "Epoch 23/50\n",
      "42000/42000 [==============================] - 1s 20us/step - loss: 0.1392 - acc: 0.9589 - val_loss: 0.1684 - val_acc: 0.9502\n",
      "Epoch 24/50\n",
      "42000/42000 [==============================] - 1s 20us/step - loss: 0.1347 - acc: 0.9608 - val_loss: 0.1674 - val_acc: 0.9502\n",
      "Epoch 25/50\n",
      "42000/42000 [==============================] - 1s 20us/step - loss: 0.1285 - acc: 0.9626 - val_loss: 0.1648 - val_acc: 0.9521\n",
      "Epoch 26/50\n",
      "42000/42000 [==============================] - 1s 20us/step - loss: 0.1293 - acc: 0.9627 - val_loss: 0.1642 - val_acc: 0.9507\n",
      "Epoch 27/50\n",
      "42000/42000 [==============================] - 1s 20us/step - loss: 0.1238 - acc: 0.9641 - val_loss: 0.1625 - val_acc: 0.9518\n",
      "Epoch 28/50\n",
      "42000/42000 [==============================] - 1s 20us/step - loss: 0.1203 - acc: 0.9635 - val_loss: 0.1614 - val_acc: 0.9527\n",
      "Epoch 29/50\n",
      "42000/42000 [==============================] - 1s 20us/step - loss: 0.1210 - acc: 0.9634 - val_loss: 0.1623 - val_acc: 0.9524\n",
      "Epoch 30/50\n",
      "42000/42000 [==============================] - 1s 20us/step - loss: 0.1208 - acc: 0.9635 - val_loss: 0.1620 - val_acc: 0.9536\n",
      "Epoch 31/50\n",
      "42000/42000 [==============================] - 1s 20us/step - loss: 0.1187 - acc: 0.9637 - val_loss: 0.1593 - val_acc: 0.9546\n",
      "Epoch 32/50\n",
      "42000/42000 [==============================] - 1s 20us/step - loss: 0.1166 - acc: 0.9646 - val_loss: 0.1606 - val_acc: 0.9510\n",
      "Epoch 33/50\n",
      "42000/42000 [==============================] - 1s 20us/step - loss: 0.1147 - acc: 0.9661 - val_loss: 0.1523 - val_acc: 0.9553\n",
      "Epoch 34/50\n",
      "42000/42000 [==============================] - 1s 22us/step - loss: 0.1128 - acc: 0.9649 - val_loss: 0.1586 - val_acc: 0.9511\n",
      "Epoch 35/50\n",
      "42000/42000 [==============================] - 1s 24us/step - loss: 0.1127 - acc: 0.9655 - val_loss: 0.1530 - val_acc: 0.9533\n",
      "Epoch 36/50\n",
      "42000/42000 [==============================] - 1s 22us/step - loss: 0.1157 - acc: 0.9649 - val_loss: 0.1627 - val_acc: 0.9521\n",
      "Epoch 37/50\n",
      "42000/42000 [==============================] - 1s 26us/step - loss: 0.1129 - acc: 0.9655 - val_loss: 0.1544 - val_acc: 0.9548\n",
      "Epoch 38/50\n",
      "42000/42000 [==============================] - 1s 25us/step - loss: 0.1076 - acc: 0.9665 - val_loss: 0.1604 - val_acc: 0.9517\n",
      "Epoch 39/50\n",
      "42000/42000 [==============================] - 1s 27us/step - loss: 0.1112 - acc: 0.9666 - val_loss: 0.1610 - val_acc: 0.9514\n",
      "Epoch 40/50\n",
      "42000/42000 [==============================] - 1s 26us/step - loss: 0.1114 - acc: 0.9661 - val_loss: 0.1582 - val_acc: 0.9523\n",
      "Epoch 41/50\n",
      "42000/42000 [==============================] - 1s 22us/step - loss: 0.1077 - acc: 0.9671 - val_loss: 0.1537 - val_acc: 0.9541\n",
      "Epoch 42/50\n",
      "42000/42000 [==============================] - 1s 20us/step - loss: 0.1029 - acc: 0.9685 - val_loss: 0.1563 - val_acc: 0.9549\n",
      "Epoch 43/50\n",
      "42000/42000 [==============================] - 1s 20us/step - loss: 0.1039 - acc: 0.9685 - val_loss: 0.1486 - val_acc: 0.9562\n",
      "Epoch 44/50\n",
      "42000/42000 [==============================] - 1s 20us/step - loss: 0.0989 - acc: 0.9693 - val_loss: 0.1492 - val_acc: 0.9554\n",
      "Epoch 45/50\n",
      "42000/42000 [==============================] - 1s 20us/step - loss: 0.0974 - acc: 0.9709 - val_loss: 0.1485 - val_acc: 0.9568\n",
      "Epoch 46/50\n",
      "42000/42000 [==============================] - 1s 20us/step - loss: 0.0950 - acc: 0.9717 - val_loss: 0.1497 - val_acc: 0.9558\n",
      "Epoch 47/50\n",
      "42000/42000 [==============================] - 1s 19us/step - loss: 0.0979 - acc: 0.9699 - val_loss: 0.1497 - val_acc: 0.9550\n",
      "Epoch 48/50\n",
      "42000/42000 [==============================] - 1s 20us/step - loss: 0.0950 - acc: 0.9709 - val_loss: 0.1466 - val_acc: 0.9554\n",
      "Epoch 49/50\n",
      "42000/42000 [==============================] - 1s 20us/step - loss: 0.0919 - acc: 0.9715 - val_loss: 0.1443 - val_acc: 0.9573\n",
      "Epoch 50/50\n",
      "42000/42000 [==============================] - 1s 20us/step - loss: 0.0870 - acc: 0.9738 - val_loss: 0.1456 - val_acc: 0.9573\n"
     ]
    },
    {
     "data": {
      "text/plain": [
       "<keras.callbacks.History at 0xb3a925550>"
      ]
     },
     "execution_count": 8,
     "metadata": {},
     "output_type": "execute_result"
    }
   ],
   "source": [
    "# xtrain = datapoints or features\n",
    "# ytrain = one-hot encoded labels\n",
    "# epochs = number of times the model needs to be trained \n",
    "# validation_split = How much data to be used for validating the training\n",
    "# batch_size = how many data points to use at a time\n",
    "\n",
    "# batch_size = 1 (Stochastic)\n",
    "# batch_size = all data points (Batch)\n",
    "# batch_size = between 1 and all (mini-batch)\n",
    "\n",
    "model.fit(xtrain, ytrain, epochs=50, validation_split=0.3, batch_size=1000)"
   ]
  },
  {
   "cell_type": "markdown",
   "metadata": {},
   "source": [
    "### model status per epoch"
   ]
  },
  {
   "cell_type": "code",
   "execution_count": 9,
   "metadata": {},
   "outputs": [
    {
     "data": {
      "text/plain": [
       "{'val_loss': [1.072262446085612,\n",
       "  0.5565623392661413,\n",
       "  0.40339092579152847,\n",
       "  0.3418639873464902,\n",
       "  0.3062423426243994,\n",
       "  0.28133854021628696,\n",
       "  0.2639603631363975,\n",
       "  0.25299886531300014,\n",
       "  0.23933287378814486,\n",
       "  0.22730490648084217,\n",
       "  0.22263456342948806,\n",
       "  0.21435362390345997,\n",
       "  0.2101939254336887,\n",
       "  0.20366506940788692,\n",
       "  0.1975147711733977,\n",
       "  0.19406954530212614,\n",
       "  0.19006051495671272,\n",
       "  0.1804475055800544,\n",
       "  0.18893268000748423,\n",
       "  0.18156237941649225,\n",
       "  0.17942313684357536,\n",
       "  0.17589376494288445,\n",
       "  0.1684110259844197,\n",
       "  0.16743399616744783,\n",
       "  0.1648301842312018,\n",
       "  0.16418983083632258,\n",
       "  0.16249468550086021,\n",
       "  0.16143798041674826,\n",
       "  0.16225329538186392,\n",
       "  0.1619749955005116,\n",
       "  0.15925930192073187,\n",
       "  0.16062564526995024,\n",
       "  0.1523459085987674,\n",
       "  0.1586246614654859,\n",
       "  0.1530401785340574,\n",
       "  0.1626650769677427,\n",
       "  0.1544341983066665,\n",
       "  0.16036683403783375,\n",
       "  0.16100514349010256,\n",
       "  0.15822225850489405,\n",
       "  0.15374685906701618,\n",
       "  0.15626947830120722,\n",
       "  0.14858451982339224,\n",
       "  0.149192632900344,\n",
       "  0.14854593119687504,\n",
       "  0.14974212356739575,\n",
       "  0.14973779602183235,\n",
       "  0.1465711175567574,\n",
       "  0.1443422076602777,\n",
       "  0.14557847256461778],\n",
       " 'val_acc': [0.8252222173743777,\n",
       "  0.8849999970859952,\n",
       "  0.9021111163828108,\n",
       "  0.910333342022366,\n",
       "  0.9162222213215299,\n",
       "  0.9226666655805376,\n",
       "  0.9250000052981906,\n",
       "  0.9290000001589457,\n",
       "  0.9299444456895193,\n",
       "  0.9343888925181495,\n",
       "  0.9343333277437422,\n",
       "  0.9376666645208994,\n",
       "  0.9406111107932197,\n",
       "  0.9391666617658403,\n",
       "  0.9425555566946665,\n",
       "  0.9437222248978085,\n",
       "  0.9443888862927755,\n",
       "  0.9470555550522275,\n",
       "  0.9447777767976125,\n",
       "  0.9464444484975603,\n",
       "  0.9459444416893853,\n",
       "  0.948722223440806,\n",
       "  0.9501666691568162,\n",
       "  0.950166662534078,\n",
       "  0.9520555502838559,\n",
       "  0.9506666660308838,\n",
       "  0.951777782705095,\n",
       "  0.9527222249242995,\n",
       "  0.952444440788693,\n",
       "  0.9536111089918349,\n",
       "  0.9545555512110392,\n",
       "  0.951000001695421,\n",
       "  0.9552777773804135,\n",
       "  0.9510555499129825,\n",
       "  0.9533333314789666,\n",
       "  0.952111111746894,\n",
       "  0.9547777771949768,\n",
       "  0.951722221242057,\n",
       "  0.9513888955116272,\n",
       "  0.9522777762677934,\n",
       "  0.9541111091772715,\n",
       "  0.9549444384045072,\n",
       "  0.956222222910987,\n",
       "  0.9554444385899438,\n",
       "  0.9567777746253543,\n",
       "  0.9557777709431119,\n",
       "  0.9549999998675452,\n",
       "  0.9553888870610131,\n",
       "  0.95733333296246,\n",
       "  0.957277774810791],\n",
       " 'loss': [1.6860491945630027,\n",
       "  0.7811512890316191,\n",
       "  0.4778907327424912,\n",
       "  0.3725124107939856,\n",
       "  0.32254750175135477,\n",
       "  0.2883250124397732,\n",
       "  0.262676661213239,\n",
       "  0.24762386615787232,\n",
       "  0.23119510355449857,\n",
       "  0.21941581191051573,\n",
       "  0.20646055681364878,\n",
       "  0.1975042631938344,\n",
       "  0.19056270768245062,\n",
       "  0.18290291087968008,\n",
       "  0.1760435388201759,\n",
       "  0.17135933609235854,\n",
       "  0.16159711991037642,\n",
       "  0.1577072846038001,\n",
       "  0.1526324161816211,\n",
       "  0.15323281412323317,\n",
       "  0.14747516278709685,\n",
       "  0.14531222819572404,\n",
       "  0.13923789968802816,\n",
       "  0.1347050563920112,\n",
       "  0.12845853645177113,\n",
       "  0.12926066666841507,\n",
       "  0.123830586849224,\n",
       "  0.12026694346041907,\n",
       "  0.12097322355423655,\n",
       "  0.12075368297241983,\n",
       "  0.11867331216732661,\n",
       "  0.11657493118019331,\n",
       "  0.11469220689364842,\n",
       "  0.11279828757757232,\n",
       "  0.11268979133594603,\n",
       "  0.11567632641111102,\n",
       "  0.1129414714163258,\n",
       "  0.10756968564930416,\n",
       "  0.11120343793715749,\n",
       "  0.1113746709057263,\n",
       "  0.1077029946304503,\n",
       "  0.10287373477504366,\n",
       "  0.10390584632044747,\n",
       "  0.09889933236298107,\n",
       "  0.09735946428208124,\n",
       "  0.0950211671491464,\n",
       "  0.09792061770955722,\n",
       "  0.09503662018548875,\n",
       "  0.09193697518536023,\n",
       "  0.08698878117970057],\n",
       " 'acc': [0.6241904804039569,\n",
       "  0.8542142836820512,\n",
       "  0.8915238025642577,\n",
       "  0.9074285711560931,\n",
       "  0.9140952399798802,\n",
       "  0.9208809548900241,\n",
       "  0.9261666706630162,\n",
       "  0.9292857150236765,\n",
       "  0.9340238102844783,\n",
       "  0.9368095213458651,\n",
       "  0.9417380960214705,\n",
       "  0.9430714277994066,\n",
       "  0.9449523800895328,\n",
       "  0.9464047565346673,\n",
       "  0.9492619066011339,\n",
       "  0.9520476148242042,\n",
       "  0.9532380955559867,\n",
       "  0.9539047607353756,\n",
       "  0.9553333308015551,\n",
       "  0.954857139360337,\n",
       "  0.9569523802825383,\n",
       "  0.9565238058567047,\n",
       "  0.9588809510072073,\n",
       "  0.9608095245701926,\n",
       "  0.9626428527491433,\n",
       "  0.9626666648047311,\n",
       "  0.9640714299111139,\n",
       "  0.9634523803279513,\n",
       "  0.9633809526761373,\n",
       "  0.9635000030199686,\n",
       "  0.9636666647025517,\n",
       "  0.9645952312719255,\n",
       "  0.96609523608571,\n",
       "  0.9649285688286736,\n",
       "  0.9655000013964516,\n",
       "  0.9649285702478319,\n",
       "  0.9655476240884691,\n",
       "  0.9664999913601648,\n",
       "  0.9666428594362169,\n",
       "  0.966119049560456,\n",
       "  0.9670952359835306,\n",
       "  0.9685476209436145,\n",
       "  0.9685000010899135,\n",
       "  0.9692619059767041,\n",
       "  0.9708809526193709,\n",
       "  0.9716904759407043,\n",
       "  0.9699047605196635,\n",
       "  0.9709047632558006,\n",
       "  0.9714761929852622,\n",
       "  0.9737857168629056]}"
      ]
     },
     "execution_count": 9,
     "metadata": {},
     "output_type": "execute_result"
    }
   ],
   "source": [
    "model.history.history"
   ]
  },
  {
   "cell_type": "code",
   "execution_count": 10,
   "metadata": {},
   "outputs": [
    {
     "data": {
      "image/png": "[encoded data removed]",
      "text/plain": [
       "<Figure size 864x720 with 4 Axes>"
      ]
     },
     "metadata": {
      "needs_background": "light"
     },
     "output_type": "display_data"
    }
   ],
   "source": [
    "plt.figure(figsize=(12,10))\n",
    "plt.subplot(2,2,1)\n",
    "plt.plot(model.history.history['loss'], c='r', label='train_loss')\n",
    "plt.legend()\n",
    "\n",
    "plt.subplot(2,2,2)\n",
    "plt.plot(model.history.history['acc'], label='train_accuracy')\n",
    "plt.legend()\n",
    "\n",
    "plt.subplot(2,2,3)\n",
    "plt.plot(model.history.history['val_loss'], c='r', label='validation_loss')\n",
    "plt.legend()\n",
    "\n",
    "plt.subplot(2,2,4)\n",
    "plt.plot(model.history.history['val_acc'], label='validation_accuracy')\n",
    "plt.legend()\n",
    "\n",
    "plt.show()"
   ]
  },
  {
   "cell_type": "markdown",
   "metadata": {},
   "source": [
    "## Evaluating the model"
   ]
  },
  {
   "cell_type": "markdown",
   "metadata": {},
   "source": [
    "### Predicting values"
   ]
  },
  {
   "cell_type": "code",
   "execution_count": 11,
   "metadata": {},
   "outputs": [
    {
     "data": {
      "text/plain": [
       "array([[1.28559259e-05, 1.57757495e-05, 7.43903511e-04, ...,\n",
       "        9.99015093e-01, 8.03217699e-06, 2.98344785e-05],\n",
       "       [2.63564616e-05, 3.41747858e-04, 9.99021411e-01, ...,\n",
       "        8.47669924e-07, 1.50666849e-04, 7.60046035e-08],\n",
       "       [1.27141311e-05, 9.98677313e-01, 2.42351289e-05, ...,\n",
       "        4.12907015e-04, 7.23929727e-04, 3.69024237e-05],\n",
       "       ...,\n",
       "       [1.52355210e-06, 1.26745954e-05, 1.43486659e-06, ...,\n",
       "        9.56027798e-05, 4.82957665e-04, 3.74449091e-03],\n",
       "       [1.37294563e-07, 3.51745825e-06, 1.64515598e-07, ...,\n",
       "        1.01745414e-07, 1.85135330e-04, 1.21765069e-07],\n",
       "       [6.35022152e-05, 5.61912339e-06, 2.39367382e-05, ...,\n",
       "        3.87712447e-07, 2.03562304e-05, 1.31556362e-05]], dtype=float32)"
      ]
     },
     "execution_count": 11,
     "metadata": {},
     "output_type": "execute_result"
    }
   ],
   "source": [
    "# The model.predict gives the probabilty \n",
    "# of the sample belonging to EACH CLASS\n",
    "\n",
    "model.predict(xtest)"
   ]
  },
  {
   "cell_type": "code",
   "execution_count": 12,
   "metadata": {},
   "outputs": [
    {
     "data": {
      "text/plain": [
       "array([7, 2, 1, ..., 4, 5, 6])"
      ]
     },
     "execution_count": 12,
     "metadata": {},
     "output_type": "execute_result"
    }
   ],
   "source": [
    "# To get the class which has the MAX PROBABILITY \n",
    "# that the sample belongs to it\n",
    "# argmax is used\n",
    "import numpy as np\n",
    "\n",
    "np.argmax(model.predict(xtest), axis=1)"
   ]
  },
  {
   "cell_type": "markdown",
   "metadata": {},
   "source": [
    "### Predicting first 16 samples of test data"
   ]
  },
  {
   "cell_type": "code",
   "execution_count": 13,
   "metadata": {},
   "outputs": [
    {
     "data": {
      "text/plain": [
       "array([7, 2, 1, 0, 4, 1, 4, 9, 6, 9, 0, 6, 9, 0, 1, 5])"
      ]
     },
     "execution_count": 13,
     "metadata": {},
     "output_type": "execute_result"
    }
   ],
   "source": [
    "np.argmax(model.predict(xtest), axis=1)[:16]"
   ]
  },
  {
   "cell_type": "markdown",
   "metadata": {},
   "source": [
    "### Plotting test data (16 samples)"
   ]
  },
  {
   "cell_type": "code",
   "execution_count": 14,
   "metadata": {},
   "outputs": [
    {
     "data": {
      "image/png": "[encoded data removed]",
      "text/plain": [
       "<Figure size 864x720 with 16 Axes>"
      ]
     },
     "metadata": {
      "needs_background": "light"
     },
     "output_type": "display_data"
    }
   ],
   "source": [
    "plt.figure(figsize=(12,10))\n",
    "\n",
    "for i in range(16):\n",
    "    plt.subplot(4,4,i+1)\n",
    "    plt.imshow(xtest[i], cmap='binary')"
   ]
  },
  {
   "cell_type": "code",
   "execution_count": null,
   "metadata": {},
   "outputs": [],
   "source": []
  }
 ],
 "metadata": {
  "kernelspec": {
   "display_name": "Python 3",
   "language": "python",
   "name": "python3"
  },
  "language_info": {
   "codemirror_mode": {
    "name": "ipython",
    "version": 3
   },
   "file_extension": ".py",
   "mimetype": "text/x-python",
   "name": "python",
   "nbconvert_exporter": "python",
   "pygments_lexer": "ipython3",
   "version": "3.6.6"
  },
  "varInspector": {
   "cols": {
    "lenName": 16,
    "lenType": 16,
    "lenVar": 40
   },
   "kernels_config": {
    "python": {
     "delete_cmd_postfix": "",
     "delete_cmd_prefix": "del ",
     "library": "var_list.py",
     "varRefreshCmd": "print(var_dic_list())"
    },
    "r": {
     "delete_cmd_postfix": ") ",
     "delete_cmd_prefix": "rm(",
     "library": "var_list.r",
     "varRefreshCmd": "cat(var_dic_list()) "
    }
   },
   "types_to_exclude": [
    "module",
    "function",
    "builtin_function_or_method",
    "instance",
    "_Feature"
   ],
   "window_display": false
  }
 },
 "nbformat": 4,
 "nbformat_minor": 2
}
